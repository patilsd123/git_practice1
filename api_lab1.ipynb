{
 "cells": [
  {
   "cell_type": "markdown",
   "id": "2118d291",
   "metadata": {},
   "source": [
    "API cumulative lab"
   ]
  },
  {
   "cell_type": "code",
   "execution_count": 12,
   "id": "f8128ca9",
   "metadata": {},
   "outputs": [
    {
     "ename": "NameError",
     "evalue": "name 'mUx' is not defined",
     "output_type": "error",
     "traceback": [
      "\u001b[0;31m---------------------------------------------------------------------------\u001b[0m",
      "\u001b[0;31mNameError\u001b[0m                                 Traceback (most recent call last)",
      "\u001b[0;32m/var/folders/r7/cwfv8lq51bn61ljqrny2w6dh0000gn/T/ipykernel_26712/3792798829.py\u001b[0m in \u001b[0;36m<module>\u001b[0;34m\u001b[0m\n\u001b[1;32m      1\u001b[0m \u001b[0;32mimport\u001b[0m \u001b[0mrequests\u001b[0m\u001b[0;34m\u001b[0m\u001b[0;34m\u001b[0m\u001b[0m\n\u001b[0;32m----> 2\u001b[0;31m \u001b[0mapi_key\u001b[0m \u001b[0;34m=\u001b[0m \u001b[0mmUx\u001b[0m\u001b[0;34m-\u001b[0m\u001b[0mY28OIT32xQwp3ZCRv2HLr98IwmMrJI9nZwtUxXZEmM4GgoiKwsm9Z3ROdVxMrdTH2ZmMHXX1Ly7yNcvo55esYEhKwxmGL_76BBvxVjnXveQ4N1LxG9qzwI4tYnYx\u001b[0m\u001b[0;34m\u001b[0m\u001b[0;34m\u001b[0m\u001b[0m\n\u001b[0m\u001b[1;32m      3\u001b[0m \u001b[0mterm\u001b[0m\u001b[0;34m=\u001b[0m\u001b[0;34m\"pizza\"\u001b[0m\u001b[0;34m\u001b[0m\u001b[0;34m\u001b[0m\u001b[0m\n\u001b[1;32m      4\u001b[0m \u001b[0mlocation\u001b[0m\u001b[0;34m=\u001b[0m\u001b[0;34m\"New York NY\"\u001b[0m\u001b[0;34m\u001b[0m\u001b[0;34m\u001b[0m\u001b[0m\n\u001b[1;32m      5\u001b[0m \u001b[0murl\u001b[0m\u001b[0;34m=\u001b[0m\u001b[0;34m\"http://api.yelp.com/v3/businesses/search\"\u001b[0m\u001b[0;34m\u001b[0m\u001b[0;34m\u001b[0m\u001b[0m\n",
      "\u001b[0;31mNameError\u001b[0m: name 'mUx' is not defined"
     ]
    }
   ],
   "source": [
    "import requests\n",
    "api_key = none\n",
    "term=\"pizza\"\n",
    "location=\"New York NY\"\n",
    "url=\"http://api.yelp.com/v3/businesses/search\"\n",
    "headers={\"Authorization\":\"Bearer{}\".format(api_key)}\n",
    "url_params={\n",
    "    \"term\":term.replace(\" \",\"+\"),\n",
    "    \n",
    "    \"location\": location.replace(\" \",\"+\")\n",
    "}\n",
    "\n",
    "response=requests.get(url,headers=headers, params=url_params)\n",
    "response"
   ]
  },
  {
   "cell_type": "code",
   "execution_count": 14,
   "id": "b9a7ca85",
   "metadata": {},
   "outputs": [
    {
     "data": {
      "text/plain": [
       "dict_keys(['error'])"
      ]
     },
     "execution_count": 14,
     "metadata": {},
     "output_type": "execute_result"
    }
   ],
   "source": [
    "response_json=response.json()\n",
    "response_json.keys()"
   ]
  },
  {
   "cell_type": "code",
   "execution_count": null,
   "id": "1f05bae9",
   "metadata": {},
   "outputs": [],
   "source": [
    "businesses=response_json[\"businesses\"]\n"
   ]
  }
 ],
 "metadata": {
  "kernelspec": {
   "display_name": "Python 3 (ipykernel)",
   "language": "python",
   "name": "python3"
  },
  "language_info": {
   "codemirror_mode": {
    "name": "ipython",
    "version": 3
   },
   "file_extension": ".py",
   "mimetype": "text/x-python",
   "name": "python",
   "nbconvert_exporter": "python",
   "pygments_lexer": "ipython3",
   "version": "3.9.7"
  }
 },
 "nbformat": 4,
 "nbformat_minor": 5
}
